{
 "cells": [
  {
   "cell_type": "code",
   "execution_count": null,
   "metadata": {},
   "outputs": [],
   "source": [
    "# Automação de encaminhamento no whatsapp\n",
    "# Usando a funcionalidade nativa do whatsapp\n",
    "#Encaminhar de 5 em 5 mensagens"
   ]
  },
  {
   "cell_type": "code",
   "execution_count": 5,
   "metadata": {},
   "outputs": [],
   "source": [
    "from selenium import webdriver\n",
    "from selenium.webdriver.chrome.service import Service\n",
    "from webdriver_manager.chrome import ChromeDriverManager\n",
    "\n",
    "service = Service(ChromeDriverManager().install())\n",
    "nav = webdriver.Chrome(service=service)\n",
    "nav.get(\"https://web.whatsapp.com\")"
   ]
  },
  {
   "cell_type": "code",
   "execution_count": null,
   "metadata": {},
   "outputs": [],
   "source": [
    "mensagem = \"\"\" Fala galera!\n",
    "Se inscreve no canal da hahstag Programação, os caras são feras!\n",
    "\"\"\"\n",
    "\n",
    "lista_contatos = [\"Meu Numero\", \"A\", \"Bbc\", \"Ccd\", \"Dde\", \"Eef\", \"Ggh\", \"Iij\"]\n",
    "\n",
    "#enviar a mensagem para o meu nmero para depois encaminhar\n",
    "\n",
    "#clicar em lupa\n",
    "nav.find_element('xpath', '')\n",
    "#escrever meu numero\n",
    "#dar um enter\n",
    "\n",
    "#encaminhar msg para a lista de contatos"
   ]
  }
 ],
 "metadata": {
  "kernelspec": {
   "display_name": "Python 3",
   "language": "python",
   "name": "python3"
  },
  "language_info": {
   "codemirror_mode": {
    "name": "ipython",
    "version": 3
   },
   "file_extension": ".py",
   "mimetype": "text/x-python",
   "name": "python",
   "nbconvert_exporter": "python",
   "pygments_lexer": "ipython3",
   "version": "3.11.4"
  }
 },
 "nbformat": 4,
 "nbformat_minor": 2
}
